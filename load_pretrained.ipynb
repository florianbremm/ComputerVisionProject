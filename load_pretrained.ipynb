{
 "cells": [
  {
   "cell_type": "code",
   "id": "initial_id",
   "metadata": {
    "collapsed": true,
    "trusted": false,
    "jupyter": {
     "is_executing": true
    }
   },
   "source": [
    "import torch\n",
    "import torch.nn as nn\n",
    "import torchvision.models as models\n",
    "from torch.utils.data import DataLoader\n",
    "from MoCoResNetBackbone import MoCoResNetBackbone\n",
    "\n",
    "moco_backbone = MoCoResNetBackbone()\n",
    "moco_backbone.eval()\n",
    "\n",
    "# Example input\n",
    "x = torch.randn(2, 3, 224, 224)\n",
    "with torch.no_grad():\n",
    "    features = moco_backbone(x)\n",
    "print(\"Fedature shape:\", features.shape)  # Should be [2, 2048]"
   ],
   "outputs": [],
   "execution_count": null
  },
  {
   "metadata": {
    "trusted": false,
    "ExecuteTime": {
     "end_time": "2025-07-01T14:28:18.489577Z",
     "start_time": "2025-07-01T14:28:16.438256Z"
    }
   },
   "cell_type": "code",
   "source": [
    "from CellDataset import CellDataset, moco_transform\n",
    "from torch.utils.data import DataLoader\n",
    "import numpy as np\n",
    "from tqdm import tqdm\n",
    "import torch\n",
    "\n",
    "device = torch.device(\"cuda:0\" if torch.cuda.is_available() else \"cpu\")\n",
    "print(device)\n",
    "\n",
    "batch_size = 64\n",
    "\n",
    "dataset = CellDataset(transform=moco_transform)\n",
    "len(dataset)"
   ],
   "id": "2fca4a8f4f942871",
   "outputs": [
    {
     "name": "stdout",
     "output_type": "stream",
     "text": [
      "cuda:0\n",
      "101052\n"
     ]
    },
    {
     "data": {
      "text/plain": [
       "101052"
      ]
     },
     "execution_count": 2,
     "metadata": {},
     "output_type": "execute_result"
    }
   ],
   "execution_count": 2
  }
 ],
 "metadata": {
  "kernelspec": {
   "display_name": "Python 3",
   "language": "python",
   "name": "python3"
  },
  "language_info": {
   "codemirror_mode": {
    "name": "ipython",
    "version": 2
   },
   "file_extension": ".py",
   "mimetype": "text/x-python",
   "name": "python",
   "nbconvert_exporter": "python",
   "pygments_lexer": "ipython2",
   "version": "2.7.6"
  }
 },
 "nbformat": 4,
 "nbformat_minor": 5
}
