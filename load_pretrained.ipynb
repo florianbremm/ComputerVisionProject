{
 "cells": [
  {
   "cell_type": "code",
   "id": "initial_id",
   "metadata": {
    "collapsed": true,
    "trusted": false,
    "ExecuteTime": {
     "end_time": "2025-06-24T13:12:58.656846Z",
     "start_time": "2025-06-24T13:12:50.412902Z"
    }
   },
   "source": [
    "import torch\n",
    "import torch.nn as nn\n",
    "import torchvision.models as models\n",
    "from torch.utils.data import DataLoader\n",
    "\n",
    "# Load the 800-epoch MoCo v2 checkpoint\n",
    "checkpoint_url = \"https://dl.fbaipublicfiles.com/moco/moco_checkpoints/moco_v2_800ep/moco_v2_800ep_pretrain.pth.tar\"\n",
    "checkpoint = torch.hub.load_state_dict_from_url(checkpoint_url, map_location=\"cpu\")\n",
    "\n",
    "# Define a standard ResNet-50 backbone\n",
    "resnet50 = models.resnet50()\n",
    "encoder = nn.Sequential(*list(resnet50.children())[:-1])  # Remove final FC layer\n",
    "\n",
    "# Load MoCo weights into the model (encoder_q is the online encoder)\n",
    "state_dict = checkpoint['state_dict']\n",
    "new_state_dict = {}\n",
    "\n",
    "for k, v in state_dict.items():\n",
    "    if k.startswith('module.encoder_q') and not k.startswith('module.encoder_q.fc'):\n",
    "        new_k = k.replace('module.encoder_q.', '')\n",
    "        new_state_dict[new_k] = v\n",
    "\n",
    "msg = encoder.load_state_dict(new_state_dict, strict=False)\n",
    "print(\"Loaded keys:\", msg)\n",
    "\n",
    "# Wrap in a model that outputs flattened features\n",
    "class MoCoResNetBackbone(nn.Module):\n",
    "    def __init__(self, encoder):\n",
    "        super().__init__()\n",
    "        self.encoder = encoder  # Output: (B, 2048, 1, 1)\n",
    "\n",
    "    def forward(self, x):\n",
    "        x = self.encoder(x)\n",
    "        return torch.flatten(x, 1)  # Output: (B, 2048)\n",
    "\n",
    "# Instantiate final model\n",
    "moco_backbone = MoCoResNetBackbone(encoder)\n",
    "moco_backbone.eval()\n",
    "\n",
    "# Example input\n",
    "x = torch.randn(2, 3, 224, 224)\n",
    "with torch.no_grad():\n",
    "    features = moco_backbone(x)\n",
    "print(\"Fedature shape:\", features.shape)  # Should be [2, 2048]"
   ],
   "outputs": [
    {
     "name": "stdout",
     "output_type": "stream",
     "text": [
      "Loaded keys: _IncompatibleKeys(missing_keys=['0.weight', '1.weight', '1.bias', '1.running_mean', '1.running_var', '4.0.conv1.weight', '4.0.bn1.weight', '4.0.bn1.bias', '4.0.bn1.running_mean', '4.0.bn1.running_var', '4.0.conv2.weight', '4.0.bn2.weight', '4.0.bn2.bias', '4.0.bn2.running_mean', '4.0.bn2.running_var', '4.0.conv3.weight', '4.0.bn3.weight', '4.0.bn3.bias', '4.0.bn3.running_mean', '4.0.bn3.running_var', '4.0.downsample.0.weight', '4.0.downsample.1.weight', '4.0.downsample.1.bias', '4.0.downsample.1.running_mean', '4.0.downsample.1.running_var', '4.1.conv1.weight', '4.1.bn1.weight', '4.1.bn1.bias', '4.1.bn1.running_mean', '4.1.bn1.running_var', '4.1.conv2.weight', '4.1.bn2.weight', '4.1.bn2.bias', '4.1.bn2.running_mean', '4.1.bn2.running_var', '4.1.conv3.weight', '4.1.bn3.weight', '4.1.bn3.bias', '4.1.bn3.running_mean', '4.1.bn3.running_var', '4.2.conv1.weight', '4.2.bn1.weight', '4.2.bn1.bias', '4.2.bn1.running_mean', '4.2.bn1.running_var', '4.2.conv2.weight', '4.2.bn2.weight', '4.2.bn2.bias', '4.2.bn2.running_mean', '4.2.bn2.running_var', '4.2.conv3.weight', '4.2.bn3.weight', '4.2.bn3.bias', '4.2.bn3.running_mean', '4.2.bn3.running_var', '5.0.conv1.weight', '5.0.bn1.weight', '5.0.bn1.bias', '5.0.bn1.running_mean', '5.0.bn1.running_var', '5.0.conv2.weight', '5.0.bn2.weight', '5.0.bn2.bias', '5.0.bn2.running_mean', '5.0.bn2.running_var', '5.0.conv3.weight', '5.0.bn3.weight', '5.0.bn3.bias', '5.0.bn3.running_mean', '5.0.bn3.running_var', '5.0.downsample.0.weight', '5.0.downsample.1.weight', '5.0.downsample.1.bias', '5.0.downsample.1.running_mean', '5.0.downsample.1.running_var', '5.1.conv1.weight', '5.1.bn1.weight', '5.1.bn1.bias', '5.1.bn1.running_mean', '5.1.bn1.running_var', '5.1.conv2.weight', '5.1.bn2.weight', '5.1.bn2.bias', '5.1.bn2.running_mean', '5.1.bn2.running_var', '5.1.conv3.weight', '5.1.bn3.weight', '5.1.bn3.bias', '5.1.bn3.running_mean', '5.1.bn3.running_var', '5.2.conv1.weight', '5.2.bn1.weight', '5.2.bn1.bias', '5.2.bn1.running_mean', '5.2.bn1.running_var', '5.2.conv2.weight', '5.2.bn2.weight', '5.2.bn2.bias', '5.2.bn2.running_mean', '5.2.bn2.running_var', '5.2.conv3.weight', '5.2.bn3.weight', '5.2.bn3.bias', '5.2.bn3.running_mean', '5.2.bn3.running_var', '5.3.conv1.weight', '5.3.bn1.weight', '5.3.bn1.bias', '5.3.bn1.running_mean', '5.3.bn1.running_var', '5.3.conv2.weight', '5.3.bn2.weight', '5.3.bn2.bias', '5.3.bn2.running_mean', '5.3.bn2.running_var', '5.3.conv3.weight', '5.3.bn3.weight', '5.3.bn3.bias', '5.3.bn3.running_mean', '5.3.bn3.running_var', '6.0.conv1.weight', '6.0.bn1.weight', '6.0.bn1.bias', '6.0.bn1.running_mean', '6.0.bn1.running_var', '6.0.conv2.weight', '6.0.bn2.weight', '6.0.bn2.bias', '6.0.bn2.running_mean', '6.0.bn2.running_var', '6.0.conv3.weight', '6.0.bn3.weight', '6.0.bn3.bias', '6.0.bn3.running_mean', '6.0.bn3.running_var', '6.0.downsample.0.weight', '6.0.downsample.1.weight', '6.0.downsample.1.bias', '6.0.downsample.1.running_mean', '6.0.downsample.1.running_var', '6.1.conv1.weight', '6.1.bn1.weight', '6.1.bn1.bias', '6.1.bn1.running_mean', '6.1.bn1.running_var', '6.1.conv2.weight', '6.1.bn2.weight', '6.1.bn2.bias', '6.1.bn2.running_mean', '6.1.bn2.running_var', '6.1.conv3.weight', '6.1.bn3.weight', '6.1.bn3.bias', '6.1.bn3.running_mean', '6.1.bn3.running_var', '6.2.conv1.weight', '6.2.bn1.weight', '6.2.bn1.bias', '6.2.bn1.running_mean', '6.2.bn1.running_var', '6.2.conv2.weight', '6.2.bn2.weight', '6.2.bn2.bias', '6.2.bn2.running_mean', '6.2.bn2.running_var', '6.2.conv3.weight', '6.2.bn3.weight', '6.2.bn3.bias', '6.2.bn3.running_mean', '6.2.bn3.running_var', '6.3.conv1.weight', '6.3.bn1.weight', '6.3.bn1.bias', '6.3.bn1.running_mean', '6.3.bn1.running_var', '6.3.conv2.weight', '6.3.bn2.weight', '6.3.bn2.bias', '6.3.bn2.running_mean', '6.3.bn2.running_var', '6.3.conv3.weight', '6.3.bn3.weight', '6.3.bn3.bias', '6.3.bn3.running_mean', '6.3.bn3.running_var', '6.4.conv1.weight', '6.4.bn1.weight', '6.4.bn1.bias', '6.4.bn1.running_mean', '6.4.bn1.running_var', '6.4.conv2.weight', '6.4.bn2.weight', '6.4.bn2.bias', '6.4.bn2.running_mean', '6.4.bn2.running_var', '6.4.conv3.weight', '6.4.bn3.weight', '6.4.bn3.bias', '6.4.bn3.running_mean', '6.4.bn3.running_var', '6.5.conv1.weight', '6.5.bn1.weight', '6.5.bn1.bias', '6.5.bn1.running_mean', '6.5.bn1.running_var', '6.5.conv2.weight', '6.5.bn2.weight', '6.5.bn2.bias', '6.5.bn2.running_mean', '6.5.bn2.running_var', '6.5.conv3.weight', '6.5.bn3.weight', '6.5.bn3.bias', '6.5.bn3.running_mean', '6.5.bn3.running_var', '7.0.conv1.weight', '7.0.bn1.weight', '7.0.bn1.bias', '7.0.bn1.running_mean', '7.0.bn1.running_var', '7.0.conv2.weight', '7.0.bn2.weight', '7.0.bn2.bias', '7.0.bn2.running_mean', '7.0.bn2.running_var', '7.0.conv3.weight', '7.0.bn3.weight', '7.0.bn3.bias', '7.0.bn3.running_mean', '7.0.bn3.running_var', '7.0.downsample.0.weight', '7.0.downsample.1.weight', '7.0.downsample.1.bias', '7.0.downsample.1.running_mean', '7.0.downsample.1.running_var', '7.1.conv1.weight', '7.1.bn1.weight', '7.1.bn1.bias', '7.1.bn1.running_mean', '7.1.bn1.running_var', '7.1.conv2.weight', '7.1.bn2.weight', '7.1.bn2.bias', '7.1.bn2.running_mean', '7.1.bn2.running_var', '7.1.conv3.weight', '7.1.bn3.weight', '7.1.bn3.bias', '7.1.bn3.running_mean', '7.1.bn3.running_var', '7.2.conv1.weight', '7.2.bn1.weight', '7.2.bn1.bias', '7.2.bn1.running_mean', '7.2.bn1.running_var', '7.2.conv2.weight', '7.2.bn2.weight', '7.2.bn2.bias', '7.2.bn2.running_mean', '7.2.bn2.running_var', '7.2.conv3.weight', '7.2.bn3.weight', '7.2.bn3.bias', '7.2.bn3.running_mean', '7.2.bn3.running_var'], unexpected_keys=['conv1.weight', 'bn1.weight', 'bn1.bias', 'bn1.running_mean', 'bn1.running_var', 'bn1.num_batches_tracked', 'layer1.0.conv1.weight', 'layer1.0.bn1.weight', 'layer1.0.bn1.bias', 'layer1.0.bn1.running_mean', 'layer1.0.bn1.running_var', 'layer1.0.bn1.num_batches_tracked', 'layer1.0.conv2.weight', 'layer1.0.bn2.weight', 'layer1.0.bn2.bias', 'layer1.0.bn2.running_mean', 'layer1.0.bn2.running_var', 'layer1.0.bn2.num_batches_tracked', 'layer1.0.conv3.weight', 'layer1.0.bn3.weight', 'layer1.0.bn3.bias', 'layer1.0.bn3.running_mean', 'layer1.0.bn3.running_var', 'layer1.0.bn3.num_batches_tracked', 'layer1.0.downsample.0.weight', 'layer1.0.downsample.1.weight', 'layer1.0.downsample.1.bias', 'layer1.0.downsample.1.running_mean', 'layer1.0.downsample.1.running_var', 'layer1.0.downsample.1.num_batches_tracked', 'layer1.1.conv1.weight', 'layer1.1.bn1.weight', 'layer1.1.bn1.bias', 'layer1.1.bn1.running_mean', 'layer1.1.bn1.running_var', 'layer1.1.bn1.num_batches_tracked', 'layer1.1.conv2.weight', 'layer1.1.bn2.weight', 'layer1.1.bn2.bias', 'layer1.1.bn2.running_mean', 'layer1.1.bn2.running_var', 'layer1.1.bn2.num_batches_tracked', 'layer1.1.conv3.weight', 'layer1.1.bn3.weight', 'layer1.1.bn3.bias', 'layer1.1.bn3.running_mean', 'layer1.1.bn3.running_var', 'layer1.1.bn3.num_batches_tracked', 'layer1.2.conv1.weight', 'layer1.2.bn1.weight', 'layer1.2.bn1.bias', 'layer1.2.bn1.running_mean', 'layer1.2.bn1.running_var', 'layer1.2.bn1.num_batches_tracked', 'layer1.2.conv2.weight', 'layer1.2.bn2.weight', 'layer1.2.bn2.bias', 'layer1.2.bn2.running_mean', 'layer1.2.bn2.running_var', 'layer1.2.bn2.num_batches_tracked', 'layer1.2.conv3.weight', 'layer1.2.bn3.weight', 'layer1.2.bn3.bias', 'layer1.2.bn3.running_mean', 'layer1.2.bn3.running_var', 'layer1.2.bn3.num_batches_tracked', 'layer2.0.conv1.weight', 'layer2.0.bn1.weight', 'layer2.0.bn1.bias', 'layer2.0.bn1.running_mean', 'layer2.0.bn1.running_var', 'layer2.0.bn1.num_batches_tracked', 'layer2.0.conv2.weight', 'layer2.0.bn2.weight', 'layer2.0.bn2.bias', 'layer2.0.bn2.running_mean', 'layer2.0.bn2.running_var', 'layer2.0.bn2.num_batches_tracked', 'layer2.0.conv3.weight', 'layer2.0.bn3.weight', 'layer2.0.bn3.bias', 'layer2.0.bn3.running_mean', 'layer2.0.bn3.running_var', 'layer2.0.bn3.num_batches_tracked', 'layer2.0.downsample.0.weight', 'layer2.0.downsample.1.weight', 'layer2.0.downsample.1.bias', 'layer2.0.downsample.1.running_mean', 'layer2.0.downsample.1.running_var', 'layer2.0.downsample.1.num_batches_tracked', 'layer2.1.conv1.weight', 'layer2.1.bn1.weight', 'layer2.1.bn1.bias', 'layer2.1.bn1.running_mean', 'layer2.1.bn1.running_var', 'layer2.1.bn1.num_batches_tracked', 'layer2.1.conv2.weight', 'layer2.1.bn2.weight', 'layer2.1.bn2.bias', 'layer2.1.bn2.running_mean', 'layer2.1.bn2.running_var', 'layer2.1.bn2.num_batches_tracked', 'layer2.1.conv3.weight', 'layer2.1.bn3.weight', 'layer2.1.bn3.bias', 'layer2.1.bn3.running_mean', 'layer2.1.bn3.running_var', 'layer2.1.bn3.num_batches_tracked', 'layer2.2.conv1.weight', 'layer2.2.bn1.weight', 'layer2.2.bn1.bias', 'layer2.2.bn1.running_mean', 'layer2.2.bn1.running_var', 'layer2.2.bn1.num_batches_tracked', 'layer2.2.conv2.weight', 'layer2.2.bn2.weight', 'layer2.2.bn2.bias', 'layer2.2.bn2.running_mean', 'layer2.2.bn2.running_var', 'layer2.2.bn2.num_batches_tracked', 'layer2.2.conv3.weight', 'layer2.2.bn3.weight', 'layer2.2.bn3.bias', 'layer2.2.bn3.running_mean', 'layer2.2.bn3.running_var', 'layer2.2.bn3.num_batches_tracked', 'layer2.3.conv1.weight', 'layer2.3.bn1.weight', 'layer2.3.bn1.bias', 'layer2.3.bn1.running_mean', 'layer2.3.bn1.running_var', 'layer2.3.bn1.num_batches_tracked', 'layer2.3.conv2.weight', 'layer2.3.bn2.weight', 'layer2.3.bn2.bias', 'layer2.3.bn2.running_mean', 'layer2.3.bn2.running_var', 'layer2.3.bn2.num_batches_tracked', 'layer2.3.conv3.weight', 'layer2.3.bn3.weight', 'layer2.3.bn3.bias', 'layer2.3.bn3.running_mean', 'layer2.3.bn3.running_var', 'layer2.3.bn3.num_batches_tracked', 'layer3.0.conv1.weight', 'layer3.0.bn1.weight', 'layer3.0.bn1.bias', 'layer3.0.bn1.running_mean', 'layer3.0.bn1.running_var', 'layer3.0.bn1.num_batches_tracked', 'layer3.0.conv2.weight', 'layer3.0.bn2.weight', 'layer3.0.bn2.bias', 'layer3.0.bn2.running_mean', 'layer3.0.bn2.running_var', 'layer3.0.bn2.num_batches_tracked', 'layer3.0.conv3.weight', 'layer3.0.bn3.weight', 'layer3.0.bn3.bias', 'layer3.0.bn3.running_mean', 'layer3.0.bn3.running_var', 'layer3.0.bn3.num_batches_tracked', 'layer3.0.downsample.0.weight', 'layer3.0.downsample.1.weight', 'layer3.0.downsample.1.bias', 'layer3.0.downsample.1.running_mean', 'layer3.0.downsample.1.running_var', 'layer3.0.downsample.1.num_batches_tracked', 'layer3.1.conv1.weight', 'layer3.1.bn1.weight', 'layer3.1.bn1.bias', 'layer3.1.bn1.running_mean', 'layer3.1.bn1.running_var', 'layer3.1.bn1.num_batches_tracked', 'layer3.1.conv2.weight', 'layer3.1.bn2.weight', 'layer3.1.bn2.bias', 'layer3.1.bn2.running_mean', 'layer3.1.bn2.running_var', 'layer3.1.bn2.num_batches_tracked', 'layer3.1.conv3.weight', 'layer3.1.bn3.weight', 'layer3.1.bn3.bias', 'layer3.1.bn3.running_mean', 'layer3.1.bn3.running_var', 'layer3.1.bn3.num_batches_tracked', 'layer3.2.conv1.weight', 'layer3.2.bn1.weight', 'layer3.2.bn1.bias', 'layer3.2.bn1.running_mean', 'layer3.2.bn1.running_var', 'layer3.2.bn1.num_batches_tracked', 'layer3.2.conv2.weight', 'layer3.2.bn2.weight', 'layer3.2.bn2.bias', 'layer3.2.bn2.running_mean', 'layer3.2.bn2.running_var', 'layer3.2.bn2.num_batches_tracked', 'layer3.2.conv3.weight', 'layer3.2.bn3.weight', 'layer3.2.bn3.bias', 'layer3.2.bn3.running_mean', 'layer3.2.bn3.running_var', 'layer3.2.bn3.num_batches_tracked', 'layer3.3.conv1.weight', 'layer3.3.bn1.weight', 'layer3.3.bn1.bias', 'layer3.3.bn1.running_mean', 'layer3.3.bn1.running_var', 'layer3.3.bn1.num_batches_tracked', 'layer3.3.conv2.weight', 'layer3.3.bn2.weight', 'layer3.3.bn2.bias', 'layer3.3.bn2.running_mean', 'layer3.3.bn2.running_var', 'layer3.3.bn2.num_batches_tracked', 'layer3.3.conv3.weight', 'layer3.3.bn3.weight', 'layer3.3.bn3.bias', 'layer3.3.bn3.running_mean', 'layer3.3.bn3.running_var', 'layer3.3.bn3.num_batches_tracked', 'layer3.4.conv1.weight', 'layer3.4.bn1.weight', 'layer3.4.bn1.bias', 'layer3.4.bn1.running_mean', 'layer3.4.bn1.running_var', 'layer3.4.bn1.num_batches_tracked', 'layer3.4.conv2.weight', 'layer3.4.bn2.weight', 'layer3.4.bn2.bias', 'layer3.4.bn2.running_mean', 'layer3.4.bn2.running_var', 'layer3.4.bn2.num_batches_tracked', 'layer3.4.conv3.weight', 'layer3.4.bn3.weight', 'layer3.4.bn3.bias', 'layer3.4.bn3.running_mean', 'layer3.4.bn3.running_var', 'layer3.4.bn3.num_batches_tracked', 'layer3.5.conv1.weight', 'layer3.5.bn1.weight', 'layer3.5.bn1.bias', 'layer3.5.bn1.running_mean', 'layer3.5.bn1.running_var', 'layer3.5.bn1.num_batches_tracked', 'layer3.5.conv2.weight', 'layer3.5.bn2.weight', 'layer3.5.bn2.bias', 'layer3.5.bn2.running_mean', 'layer3.5.bn2.running_var', 'layer3.5.bn2.num_batches_tracked', 'layer3.5.conv3.weight', 'layer3.5.bn3.weight', 'layer3.5.bn3.bias', 'layer3.5.bn3.running_mean', 'layer3.5.bn3.running_var', 'layer3.5.bn3.num_batches_tracked', 'layer4.0.conv1.weight', 'layer4.0.bn1.weight', 'layer4.0.bn1.bias', 'layer4.0.bn1.running_mean', 'layer4.0.bn1.running_var', 'layer4.0.bn1.num_batches_tracked', 'layer4.0.conv2.weight', 'layer4.0.bn2.weight', 'layer4.0.bn2.bias', 'layer4.0.bn2.running_mean', 'layer4.0.bn2.running_var', 'layer4.0.bn2.num_batches_tracked', 'layer4.0.conv3.weight', 'layer4.0.bn3.weight', 'layer4.0.bn3.bias', 'layer4.0.bn3.running_mean', 'layer4.0.bn3.running_var', 'layer4.0.bn3.num_batches_tracked', 'layer4.0.downsample.0.weight', 'layer4.0.downsample.1.weight', 'layer4.0.downsample.1.bias', 'layer4.0.downsample.1.running_mean', 'layer4.0.downsample.1.running_var', 'layer4.0.downsample.1.num_batches_tracked', 'layer4.1.conv1.weight', 'layer4.1.bn1.weight', 'layer4.1.bn1.bias', 'layer4.1.bn1.running_mean', 'layer4.1.bn1.running_var', 'layer4.1.bn1.num_batches_tracked', 'layer4.1.conv2.weight', 'layer4.1.bn2.weight', 'layer4.1.bn2.bias', 'layer4.1.bn2.running_mean', 'layer4.1.bn2.running_var', 'layer4.1.bn2.num_batches_tracked', 'layer4.1.conv3.weight', 'layer4.1.bn3.weight', 'layer4.1.bn3.bias', 'layer4.1.bn3.running_mean', 'layer4.1.bn3.running_var', 'layer4.1.bn3.num_batches_tracked', 'layer4.2.conv1.weight', 'layer4.2.bn1.weight', 'layer4.2.bn1.bias', 'layer4.2.bn1.running_mean', 'layer4.2.bn1.running_var', 'layer4.2.bn1.num_batches_tracked', 'layer4.2.conv2.weight', 'layer4.2.bn2.weight', 'layer4.2.bn2.bias', 'layer4.2.bn2.running_mean', 'layer4.2.bn2.running_var', 'layer4.2.bn2.num_batches_tracked', 'layer4.2.conv3.weight', 'layer4.2.bn3.weight', 'layer4.2.bn3.bias', 'layer4.2.bn3.running_mean', 'layer4.2.bn3.running_var', 'layer4.2.bn3.num_batches_tracked'])\n",
      "Fedature shape: torch.Size([2, 2048])\n"
     ]
    }
   ],
   "execution_count": 1
  },
  {
   "metadata": {
    "trusted": false,
    "jupyter": {
     "is_executing": true
    },
    "ExecuteTime": {
     "start_time": "2025-06-24T13:12:59.157088Z"
    }
   },
   "cell_type": "code",
   "source": [
    "from CellDataset import CellDataset, moco_transform\n",
    "from torch.utils.data import DataLoader\n",
    "import numpy as np\n",
    "from tqdm import tqdm\n",
    "\n",
    "device = torch.device(\"cuda:0\" if torch.cuda.is_available() else \"cpu\")\n",
    "print(device)\n",
    "\n",
    "batch_size = 64\n",
    "\n",
    "dataset = CellDataset(transform=moco_transform)\n",
    "moco_dataloader = DataLoader(dataset, batch_size=batch_size, shuffle=True)\n",
    "predictions=np.zeros((len(dataset),2048))\n",
    "\n",
    "moco_backbone.eval().to(device)\n",
    "\n",
    "for i, (view1, _) in tqdm(enumerate(moco_dataloader), total=len(moco_dataloader), ncols=100):\n",
    "    print(view1.to(device).shape)\n",
    "\n",
    "predictions"
   ],
   "id": "2fca4a8f4f942871",
   "outputs": [
    {
     "name": "stdout",
     "output_type": "stream",
     "text": [
      "cuda:0\n"
     ]
    },
    {
     "name": "stderr",
     "output_type": "stream",
     "text": [
      "  0%|                                                                     | 0/15876 [00:00<?, ?it/s]"
     ]
    }
   ],
   "execution_count": null
  }
 ],
 "metadata": {
  "kernelspec": {
   "display_name": "Python 3",
   "language": "python",
   "name": "python3"
  },
  "language_info": {
   "codemirror_mode": {
    "name": "ipython",
    "version": 2
   },
   "file_extension": ".py",
   "mimetype": "text/x-python",
   "name": "python",
   "nbconvert_exporter": "python",
   "pygments_lexer": "ipython2",
   "version": "2.7.6"
  }
 },
 "nbformat": 4,
 "nbformat_minor": 5
}
