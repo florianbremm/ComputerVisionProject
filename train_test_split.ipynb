{
 "cells": [
  {
   "cell_type": "code",
   "execution_count": 1,
   "id": "initial_id",
   "metadata": {
    "ExecuteTime": {
     "end_time": "2025-06-23T17:06:48.483967Z",
     "start_time": "2025-06-23T17:06:48.480807Z"
    },
    "collapsed": true
   },
   "outputs": [],
   "source": [
    "import pandas as pd\n",
    "import random\n",
    "import json"
   ]
  },
  {
   "cell_type": "code",
   "execution_count": 2,
   "id": "4a08e9e147f31e40",
   "metadata": {
    "ExecuteTime": {
     "end_time": "2025-06-23T17:33:14.005008Z",
     "start_time": "2025-06-23T17:33:13.992705Z"
    }
   },
   "outputs": [
    {
     "name": "stdout",
     "output_type": "stream",
     "text": [
      "Train (173): [{'id': 1, 'name': 1}, {'id': 3, 'name': 3}, {'id': 4, 'name': 4}, {'id': 5, 'name': 5}, {'id': 6, 'name': 6}, {'id': 8, 'name': 8}, {'id': 9, 'name': 9}, {'id': 10, 'name': 10}, {'id': 11, 'name': 11}, {'id': 12, 'name': 12}, {'id': 14, 'name': 14}, {'id': 19, 'name': 19}, {'id': 20, 'name': 20}, {'id': 21, 'name': 21}, {'id': 22, 'name': 22}, {'id': 23, 'name': 23}, {'id': 25, 'name': 25}, {'id': 26, 'name': 26}, {'id': 30, 'name': 30}, {'id': 34, 'name': 34}, {'id': 35, 'name': 35}, {'id': 36, 'name': 36}, {'id': 37, 'name': 37}, {'id': 38, 'name': 38}, {'id': 40, 'name': 40}, {'id': 42, 'name': 42}, {'id': 43, 'name': 43}, {'id': 44, 'name': 44}, {'id': 48, 'name': 48}, {'id': 49, 'name': 49}, {'id': 50, 'name': 50}, {'id': 51, 'name': 51}, {'id': 53, 'name': 54}, {'id': 55, 'name': 56}, {'id': 56, 'name': 57}, {'id': 57, 'name': 58}, {'id': 60, 'name': 62}, {'id': 61, 'name': 63}, {'id': 62, 'name': 64}, {'id': 63, 'name': 65}, {'id': 65, 'name': 67}, {'id': 67, 'name': 69}, {'id': 68, 'name': 70}, {'id': 72, 'name': 74}, {'id': 73, 'name': 75}, {'id': 75, 'name': 77}, {'id': 76, 'name': 78}, {'id': 77, 'name': 79}, {'id': 78, 'name': 80}, {'id': 79, 'name': 81}, {'id': 80, 'name': 82}, {'id': 82, 'name': 84}, {'id': 85, 'name': 87}, {'id': 87, 'name': 89}, {'id': 90, 'name': 92}, {'id': 91, 'name': 93}, {'id': 92, 'name': 94}, {'id': 93, 'name': 95}, {'id': 94, 'name': 96}, {'id': 95, 'name': 97}, {'id': 96, 'name': 98}, {'id': 97, 'name': 99}, {'id': 99, 'name': 101}, {'id': 101, 'name': 103}, {'id': 103, 'name': 105}, {'id': 108, 'name': 110}, {'id': 109, 'name': 111}, {'id': 110, 'name': 112}, {'id': 112, 'name': 114}, {'id': 113, 'name': 115}, {'id': 115, 'name': 117}, {'id': 116, 'name': 118}, {'id': 118, 'name': 120}, {'id': 120, 'name': 122}, {'id': 123, 'name': 125}, {'id': 124, 'name': 126}, {'id': 125, 'name': 127}, {'id': 129, 'name': 131}, {'id': 133, 'name': 135}, {'id': 134, 'name': 136}, {'id': 135, 'name': 137}, {'id': 136, 'name': 138}, {'id': 137, 'name': 139}, {'id': 138, 'name': 140}, {'id': 139, 'name': 141}, {'id': 141, 'name': 143}, {'id': 145, 'name': 147}, {'id': 146, 'name': 148}, {'id': 149, 'name': 151}, {'id': 150, 'name': 152}, {'id': 151, 'name': 153}, {'id': 152, 'name': 154}, {'id': 153, 'name': 155}, {'id': 155, 'name': 157}, {'id': 157, 'name': 159}, {'id': 159, 'name': 161}, {'id': 161, 'name': 163}, {'id': 162, 'name': 164}, {'id': 163, 'name': 165}, {'id': 164, 'name': 166}, {'id': 165, 'name': 167}, {'id': 166, 'name': 168}, {'id': 167, 'name': 169}, {'id': 168, 'name': 170}, {'id': 169, 'name': 171}, {'id': 171, 'name': 173}, {'id': 172, 'name': 174}, {'id': 175, 'name': 177}, {'id': 176, 'name': 178}, {'id': 177, 'name': 179}, {'id': 178, 'name': 180}, {'id': 179, 'name': 181}, {'id': 181, 'name': 183}, {'id': 182, 'name': 184}, {'id': 183, 'name': 185}, {'id': 184, 'name': 186}, {'id': 185, 'name': 187}, {'id': 187, 'name': 189}, {'id': 188, 'name': 190}, {'id': 190, 'name': 192}, {'id': 191, 'name': 193}, {'id': 192, 'name': 194}, {'id': 193, 'name': 195}, {'id': 194, 'name': 196}, {'id': 196, 'name': 198}, {'id': 197, 'name': 199}, {'id': 198, 'name': 200}, {'id': 201, 'name': 203}, {'id': 202, 'name': 204}, {'id': 204, 'name': 206}, {'id': 205, 'name': 207}, {'id': 206, 'name': 208}, {'id': 207, 'name': 209}, {'id': 208, 'name': 210}, {'id': 210, 'name': 212}, {'id': 213, 'name': 215}, {'id': 215, 'name': 217}, {'id': 216, 'name': 218}, {'id': 217, 'name': 219}, {'id': 218, 'name': 220}, {'id': 219, 'name': 221}, {'id': 220, 'name': 222}, {'id': 221, 'name': 223}, {'id': 222, 'name': 224}, {'id': 223, 'name': 225}, {'id': 225, 'name': 227}, {'id': 227, 'name': 229}, {'id': 228, 'name': 230}, {'id': 229, 'name': 231}, {'id': 230, 'name': 232}, {'id': 231, 'name': 233}, {'id': 233, 'name': 235}, {'id': 240, 'name': 242}, {'id': 241, 'name': 243}, {'id': 242, 'name': 244}, {'id': 243, 'name': 245}, {'id': 244, 'name': 246}, {'id': 246, 'name': 248}, {'id': 247, 'name': 249}, {'id': 250, 'name': 252}, {'id': 251, 'name': 253}, {'id': 252, 'name': 254}, {'id': 254, 'name': 257}, {'id': 256, 'name': 259}, {'id': 257, 'name': 260}, {'id': 259, 'name': 262}, {'id': 260, 'name': 263}, {'id': 262, 'name': 266}, {'id': 263, 'name': 267}, {'id': 264, 'name': 268}, {'id': 266, 'name': 270}, {'id': 268, 'name': 272}, {'id': 269, 'name': 273}]\n",
      "Test (53):   [{'id': 2, 'name': 2}, {'id': 7, 'name': 7}, {'id': 13, 'name': 13}, {'id': 15, 'name': 15}, {'id': 17, 'name': 17}, {'id': 18, 'name': 18}, {'id': 29, 'name': 29}, {'id': 31, 'name': 31}, {'id': 32, 'name': 32}, {'id': 45, 'name': 45}, {'id': 46, 'name': 46}, {'id': 47, 'name': 47}, {'id': 52, 'name': 53}, {'id': 54, 'name': 55}, {'id': 58, 'name': 59}, {'id': 59, 'name': 61}, {'id': 66, 'name': 68}, {'id': 69, 'name': 71}, {'id': 74, 'name': 76}, {'id': 83, 'name': 85}, {'id': 86, 'name': 88}, {'id': 88, 'name': 90}, {'id': 102, 'name': 104}, {'id': 105, 'name': 107}, {'id': 111, 'name': 113}, {'id': 114, 'name': 116}, {'id': 117, 'name': 119}, {'id': 119, 'name': 121}, {'id': 121, 'name': 123}, {'id': 122, 'name': 124}, {'id': 126, 'name': 128}, {'id': 128, 'name': 130}, {'id': 130, 'name': 132}, {'id': 131, 'name': 133}, {'id': 142, 'name': 144}, {'id': 143, 'name': 145}, {'id': 156, 'name': 158}, {'id': 160, 'name': 162}, {'id': 170, 'name': 172}, {'id': 174, 'name': 176}, {'id': 186, 'name': 188}, {'id': 195, 'name': 197}, {'id': 200, 'name': 202}, {'id': 203, 'name': 205}, {'id': 209, 'name': 211}, {'id': 224, 'name': 226}, {'id': 226, 'name': 228}, {'id': 234, 'name': 236}, {'id': 237, 'name': 239}, {'id': 239, 'name': 241}, {'id': 253, 'name': 255}, {'id': 258, 'name': 261}, {'id': 265, 'name': 269}]\n",
      "Validation (43):   [{'id': 16, 'name': 16}, {'id': 24, 'name': 24}, {'id': 27, 'name': 27}, {'id': 28, 'name': 28}, {'id': 33, 'name': 33}, {'id': 39, 'name': 39}, {'id': 41, 'name': 41}, {'id': 64, 'name': 66}, {'id': 70, 'name': 72}, {'id': 71, 'name': 73}, {'id': 81, 'name': 83}, {'id': 84, 'name': 86}, {'id': 89, 'name': 91}, {'id': 98, 'name': 100}, {'id': 100, 'name': 102}, {'id': 104, 'name': 106}, {'id': 106, 'name': 108}, {'id': 107, 'name': 109}, {'id': 127, 'name': 129}, {'id': 132, 'name': 134}, {'id': 140, 'name': 142}, {'id': 144, 'name': 146}, {'id': 147, 'name': 149}, {'id': 148, 'name': 150}, {'id': 154, 'name': 156}, {'id': 173, 'name': 175}, {'id': 180, 'name': 182}, {'id': 189, 'name': 191}, {'id': 199, 'name': 201}, {'id': 211, 'name': 213}, {'id': 212, 'name': 214}, {'id': 214, 'name': 216}, {'id': 232, 'name': 234}, {'id': 235, 'name': 237}, {'id': 236, 'name': 238}, {'id': 238, 'name': 240}, {'id': 245, 'name': 247}, {'id': 248, 'name': 250}, {'id': 249, 'name': 251}, {'id': 255, 'name': 258}, {'id': 261, 'name': 264}, {'id': 267, 'name': 271}, {'id': 270, 'name': 274}]\n"
     ]
    }
   ],
   "source": [
    "videos = pd.read_json('videos.json').drop(columns=['cells']).to_dict('records')\n",
    "\n",
    "\n",
    "num_videos = len(videos)\n",
    "test_size = int(num_videos * 0.2)\n",
    "\n",
    "test_videos = []\n",
    "random.seed(42)\n",
    "\n",
    "for i in range(test_size):\n",
    "    test_videos.append(videos.pop(random.randint(0, len(videos) - 1)))\n",
    "\n",
    "\n",
    "val_size = int(len(videos) * 0.2)\n",
    "val_videos = []\n",
    "\n",
    "for i in range(val_size):\n",
    "    val_videos.append(videos.pop(random.randint(0, len(videos) - 1)))\n",
    "\n",
    "def sort(video):\n",
    "    return video['id']\n",
    "\n",
    "train_videos = videos\n",
    "test_videos.sort(key=sort)\n",
    "val_videos.sort(key=sort)\n",
    "\n",
    "print(f\"Train ({len(train_videos)}): {train_videos}\")\n",
    "print(f\"Test ({len(test_videos)}):   {test_videos}\")\n",
    "print(f\"Validation ({len(val_videos)}):   {val_videos}\")\n",
    "\n",
    "train_test_split = {'train': train_videos, 'test': test_videos, 'val': val_videos}\n",
    "\n",
    "json.dump(train_test_split, open('train_test_split.json', 'w'))"
   ]
  }
 ],
 "metadata": {
  "kernelspec": {
   "display_name": "data_science",
   "language": "python",
   "name": "python3"
  },
  "language_info": {
   "codemirror_mode": {
    "name": "ipython",
    "version": 3
   },
   "file_extension": ".py",
   "mimetype": "text/x-python",
   "name": "python",
   "nbconvert_exporter": "python",
   "pygments_lexer": "ipython3",
   "version": "3.10.3"
  }
 },
 "nbformat": 4,
 "nbformat_minor": 5
}
