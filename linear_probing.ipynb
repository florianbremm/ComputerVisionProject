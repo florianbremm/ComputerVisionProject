{
 "cells": [
  {
   "cell_type": "code",
   "id": "initial_id",
   "metadata": {
    "collapsed": true,
    "trusted": false,
    "ExecuteTime": {
     "end_time": "2025-07-11T15:10:47.863055Z",
     "start_time": "2025-07-11T15:10:30.656340Z"
    }
   },
   "source": [
    "import numpy as np\n",
    "import os\n",
    "from pathlib import Path\n",
    "from PIL import Image\n",
    "import json\n",
    "import matplotlib.pyplot as plt\n",
    "from tqdm import tqdm\n",
    "from torchvision import transforms as T\n",
    "import torch\n",
    "import random\n",
    "import torch.nn as nn\n",
    "from torch.utils.data import Dataset\n",
    "from torchvision import datasets, transforms\n",
    "from torch.utils.data import DataLoader\n",
    "from sklearn.ensemble import RandomForestClassifier\n",
    "from sklearn.metrics import classification_report\n",
    "from sklearn.svm import SVC\n",
    "from sklearn.decomposition import PCA\n",
    "\n",
    "from CellDataset import CellDataset, moco_transform\n",
    "from MoCoResNetBackbone import MoCoResNetBackbone"
   ],
   "outputs": [],
   "execution_count": 1
  },
  {
   "metadata": {
    "trusted": false,
    "ExecuteTime": {
     "end_time": "2025-07-11T15:10:50.651183Z",
     "start_time": "2025-07-11T15:10:48.242158Z"
    }
   },
   "cell_type": "code",
   "source": [
    "modelPath = Path(\"/scratch/cv-course-group-5/models/training4/model_epoch50.pth\")\n",
    "\n",
    "gpu = 0\n",
    "\n",
    "device = torch.device(f\"cuda:{gpu}\" if torch.cuda.is_available() else \"cpu\")\n",
    "\n",
    "model = MoCoResNetBackbone()\n",
    "\n",
    "model_state_dict = torch.load(modelPath, map_location=device)\n",
    "model.load_state_dict(model_state_dict)\n",
    "model.eval()\n",
    "model.to(device)\n",
    "\n",
    "with open(Path('train_test_split.json'), 'r') as f:\n",
    "    _split_data = json.load(f)\n",
    "val_list = _split_data.get(\"val\", [])\n",
    "dataset = CellDataset(video_list=val_list[:5], mode='inference')"
   ],
   "id": "b46407e5534c1c96",
   "outputs": [
    {
     "name": "stdout",
     "output_type": "stream",
     "text": [
      "22447\n"
     ]
    }
   ],
   "execution_count": 2
  },
  {
   "metadata": {
    "trusted": false,
    "ExecuteTime": {
     "end_time": "2025-07-11T15:10:50.685679Z",
     "start_time": "2025-07-11T15:10:50.683749Z"
    }
   },
   "cell_type": "code",
   "source": "batch_size = 128\ndataloader = DataLoader(dataset, batch_size=batch_size, shuffle=False, num_workers=8, pin_memory=True)\n\nall_embeddings = []\nall_labels = []",
   "id": "b16f267d51584c64",
   "outputs": [],
   "execution_count": 3
  },
  {
   "metadata": {
    "trusted": false,
    "ExecuteTime": {
     "end_time": "2025-07-11T15:11:06.891963Z",
     "start_time": "2025-07-11T15:10:50.741564Z"
    }
   },
   "cell_type": "code",
   "source": "with torch.no_grad():\n    for imgs, labels in tqdm(dataloader, desc=\"Extracting embeddings\"):\n        imgs = imgs.to(device, non_blocking=True)\n        labels = labels.cpu().numpy()  # optional, if tensor\n        embeddings = model.encode_query(imgs)  # → (B, 2048)\n        embeddings = embeddings.cpu().numpy()\n\n        all_embeddings.append(embeddings)\n        all_labels.append(labels)\n\nembeddings = np.concatenate(all_embeddings, axis=0)\nlabels = np.concatenate(all_labels, axis=0)",
   "id": "81c9514d62031ec4",
   "outputs": [
    {
     "name": "stderr",
     "output_type": "stream",
     "text": [
      "Extracting embeddings: 100%|███████████████████████████████████████████| 176/176 [00:16<00:00, 10.92it/s]\n"
     ]
    }
   ],
   "execution_count": 4
  },
  {
   "metadata": {
    "trusted": false,
    "ExecuteTime": {
     "end_time": "2025-07-11T15:11:06.924396Z",
     "start_time": "2025-07-11T15:11:06.921992Z"
    }
   },
   "cell_type": "code",
   "source": "class EmbeddingDataset(Dataset):\n    def __init__(self, data_array: np.ndarray, label_array: np.ndarray):\n        assert data_array.shape[0] == label_array.shape[0], \"Mismatched data and labels\"\n        self.data = torch.from_numpy(data_array).float()\n        self.labels = torch.from_numpy(label_array).byte()  # Use .float() if labels are floats\n\n    def __len__(self):\n        return self.data.shape[0]\n\n    def __getitem__(self, idx):\n        return self.data[idx], self.labels[idx]",
   "id": "780185c6a6908e67",
   "outputs": [],
   "execution_count": 5
  },
  {
   "metadata": {
    "trusted": false,
    "ExecuteTime": {
     "end_time": "2025-07-11T15:11:06.991927Z",
     "start_time": "2025-07-11T15:11:06.989212Z"
    }
   },
   "cell_type": "code",
   "source": "\ntrain_dataset = EmbeddingDataset(data_array=embeddings[:int(0.8 * len(embeddings))], label_array=labels[:int(0.8 * len(embeddings))])\ntrain_dataloader = DataLoader(train_dataset, batch_size=batch_size, shuffle=True, num_workers=8, pin_memory=True)\n\nval_dataset = EmbeddingDataset(data_array=embeddings[int(0.8 * len(embeddings)):], label_array=labels[int(0.8 * len(embeddings)):])\nval_dataloader = DataLoader(val_dataset, batch_size=batch_size, shuffle=True, num_workers=8, pin_memory=True)",
   "id": "e076269e26dbffda",
   "outputs": [],
   "execution_count": 6
  },
  {
   "metadata": {
    "trusted": false,
    "ExecuteTime": {
     "end_time": "2025-07-11T15:11:15.115304Z",
     "start_time": "2025-07-11T15:11:07.049713Z"
    }
   },
   "cell_type": "code",
   "source": "_, train_labels = train_dataset[:]\n\nlinear_model = nn.Linear(embeddings.shape[1], 1)\n\nepochs = 5\nlearning_rate = 0.001\n\npos_weight = (len(train_labels) - train_labels.sum()) / train_labels.sum()\nloss_fn = nn.BCEWithLogitsLoss(pos_weight=pos_weight)\noptimizer = torch.optim.Adam(linear_model.parameters(), lr=learning_rate)\n\nfor epoch in range(epochs):\n    epoch_loss = []\n    linear_model.train()\n    for embedding, label in tqdm(train_dataloader, desc=f\"Epoch {epoch}\", total=len(train_dataloader), ncols=100):\n        pred = linear_model(embedding)\n        loss = loss_fn(pred, label.unsqueeze(1).float())\n        optimizer.zero_grad()\n        loss.backward()\n        optimizer.step()\n        epoch_loss.append(loss.item())\n    print(f\"Train Loss Epoch {epoch}: {np.mean(epoch_loss)}\", end=\"\")\n    linear_model.eval()\n    val_loss = []\n    for embedding, label in val_dataloader:\n        pred = (torch.sigmoid(linear_model(embedding)) > 0.5).squeeze().int()\n        val_loss.append(np.sum([label != pred]) / batch_size)\n\n    print(f\"Val Loss Epoch {epoch}: {np.mean(val_loss)}\")\n",
   "id": "ba746c546ff351a3",
   "outputs": [
    {
     "name": "stderr",
     "output_type": "stream",
     "text": [
      "Epoch 0: 100%|███████████████████████████████████████████████████| 141/141 [00:01<00:00, 130.32it/s]"
     ]
    },
    {
     "name": "stdout",
     "output_type": "stream",
     "text": [
      "Train Loss Epoch 0: 0.03527384174076167"
     ]
    },
    {
     "name": "stderr",
     "output_type": "stream",
     "text": [
      "\n"
     ]
    },
    {
     "name": "stdout",
     "output_type": "stream",
     "text": [
      "Val Loss Epoch 0: 0.4264322916666667\n"
     ]
    },
    {
     "name": "stderr",
     "output_type": "stream",
     "text": [
      "Epoch 1: 100%|███████████████████████████████████████████████████| 141/141 [00:00<00:00, 147.85it/s]"
     ]
    },
    {
     "name": "stdout",
     "output_type": "stream",
     "text": [
      "Train Loss Epoch 1: 0.0318620673162823"
     ]
    },
    {
     "name": "stderr",
     "output_type": "stream",
     "text": [
      "\n"
     ]
    },
    {
     "name": "stdout",
     "output_type": "stream",
     "text": [
      "Val Loss Epoch 1: 0.15125868055555555\n"
     ]
    },
    {
     "name": "stderr",
     "output_type": "stream",
     "text": [
      "Epoch 2: 100%|███████████████████████████████████████████████████| 141/141 [00:00<00:00, 151.65it/s]"
     ]
    },
    {
     "name": "stdout",
     "output_type": "stream",
     "text": [
      "Train Loss Epoch 2: 0.03223175636710639"
     ]
    },
    {
     "name": "stderr",
     "output_type": "stream",
     "text": [
      "\n"
     ]
    },
    {
     "name": "stdout",
     "output_type": "stream",
     "text": [
      "Val Loss Epoch 2: 0.1558159722222222\n"
     ]
    },
    {
     "name": "stderr",
     "output_type": "stream",
     "text": [
      "Epoch 3: 100%|███████████████████████████████████████████████████| 141/141 [00:00<00:00, 153.45it/s]"
     ]
    },
    {
     "name": "stdout",
     "output_type": "stream",
     "text": [
      "Train Loss Epoch 3: 0.03149951854390456"
     ]
    },
    {
     "name": "stderr",
     "output_type": "stream",
     "text": [
      "\n"
     ]
    },
    {
     "name": "stdout",
     "output_type": "stream",
     "text": [
      "Val Loss Epoch 3: 0.23958333333333334\n"
     ]
    },
    {
     "name": "stderr",
     "output_type": "stream",
     "text": [
      "Epoch 4: 100%|████████████████████████████████████████████████████| 141/141 [00:01<00:00, 95.80it/s]"
     ]
    },
    {
     "name": "stdout",
     "output_type": "stream",
     "text": [
      "Train Loss Epoch 4: 0.03011958591032324"
     ]
    },
    {
     "name": "stderr",
     "output_type": "stream",
     "text": [
      "\n"
     ]
    },
    {
     "name": "stdout",
     "output_type": "stream",
     "text": [
      "Val Loss Epoch 4: 0.14583333333333334\n"
     ]
    }
   ],
   "execution_count": 7
  },
  {
   "metadata": {
    "trusted": false,
    "ExecuteTime": {
     "end_time": "2025-07-11T15:11:23.047352Z",
     "start_time": "2025-07-11T15:11:15.146919Z"
    }
   },
   "cell_type": "code",
   "source": "random_forest = RandomForestClassifier(n_estimators=500, criterion=\"entropy\", class_weight=\"balanced\", n_jobs=8, random_state=42)\n\nembeddings_train, labels_train = train_dataset[:]\nembeddings_val, labels_val = val_dataset[:]\n\nrandom_forest.fit(embeddings_train, labels_train)",
   "id": "30290014415236ba",
   "outputs": [
    {
     "ename": "KeyboardInterrupt",
     "evalue": "",
     "output_type": "error",
     "traceback": [
      "\u001B[0;31m---------------------------------------------------------------------------\u001B[0m",
      "\u001B[0;31mKeyboardInterrupt\u001B[0m                         Traceback (most recent call last)",
      "Cell \u001B[0;32mIn[8], line 6\u001B[0m\n\u001B[1;32m      3\u001B[0m embeddings_train, labels_train \u001B[38;5;241m=\u001B[39m train_dataset[:]\n\u001B[1;32m      4\u001B[0m embeddings_val, labels_val \u001B[38;5;241m=\u001B[39m val_dataset[:]\n\u001B[0;32m----> 6\u001B[0m random_forest\u001B[38;5;241m.\u001B[39mfit(embeddings_train, labels_train)\n",
      "File \u001B[0;32m~/.local/lib/python3.11/site-packages/sklearn/base.py:1363\u001B[0m, in \u001B[0;36m_fit_context.<locals>.decorator.<locals>.wrapper\u001B[0;34m(estimator, *args, **kwargs)\u001B[0m\n\u001B[1;32m   1356\u001B[0m     estimator\u001B[38;5;241m.\u001B[39m_validate_params()\n\u001B[1;32m   1358\u001B[0m \u001B[38;5;28;01mwith\u001B[39;00m config_context(\n\u001B[1;32m   1359\u001B[0m     skip_parameter_validation\u001B[38;5;241m=\u001B[39m(\n\u001B[1;32m   1360\u001B[0m         prefer_skip_nested_validation \u001B[38;5;129;01mor\u001B[39;00m global_skip_validation\n\u001B[1;32m   1361\u001B[0m     )\n\u001B[1;32m   1362\u001B[0m ):\n\u001B[0;32m-> 1363\u001B[0m     \u001B[38;5;28;01mreturn\u001B[39;00m fit_method(estimator, \u001B[38;5;241m*\u001B[39margs, \u001B[38;5;241m*\u001B[39m\u001B[38;5;241m*\u001B[39mkwargs)\n",
      "File \u001B[0;32m~/.local/lib/python3.11/site-packages/sklearn/ensemble/_forest.py:486\u001B[0m, in \u001B[0;36mBaseForest.fit\u001B[0;34m(self, X, y, sample_weight)\u001B[0m\n\u001B[1;32m    475\u001B[0m trees \u001B[38;5;241m=\u001B[39m [\n\u001B[1;32m    476\u001B[0m     \u001B[38;5;28mself\u001B[39m\u001B[38;5;241m.\u001B[39m_make_estimator(append\u001B[38;5;241m=\u001B[39m\u001B[38;5;28;01mFalse\u001B[39;00m, random_state\u001B[38;5;241m=\u001B[39mrandom_state)\n\u001B[1;32m    477\u001B[0m     \u001B[38;5;28;01mfor\u001B[39;00m i \u001B[38;5;129;01min\u001B[39;00m \u001B[38;5;28mrange\u001B[39m(n_more_estimators)\n\u001B[1;32m    478\u001B[0m ]\n\u001B[1;32m    480\u001B[0m \u001B[38;5;66;03m# Parallel loop: we prefer the threading backend as the Cython code\u001B[39;00m\n\u001B[1;32m    481\u001B[0m \u001B[38;5;66;03m# for fitting the trees is internally releasing the Python GIL\u001B[39;00m\n\u001B[1;32m    482\u001B[0m \u001B[38;5;66;03m# making threading more efficient than multiprocessing in\u001B[39;00m\n\u001B[1;32m    483\u001B[0m \u001B[38;5;66;03m# that case. However, for joblib 0.12+ we respect any\u001B[39;00m\n\u001B[1;32m    484\u001B[0m \u001B[38;5;66;03m# parallel_backend contexts set at a higher level,\u001B[39;00m\n\u001B[1;32m    485\u001B[0m \u001B[38;5;66;03m# since correctness does not rely on using threads.\u001B[39;00m\n\u001B[0;32m--> 486\u001B[0m trees \u001B[38;5;241m=\u001B[39m Parallel(\n\u001B[1;32m    487\u001B[0m     n_jobs\u001B[38;5;241m=\u001B[39m\u001B[38;5;28mself\u001B[39m\u001B[38;5;241m.\u001B[39mn_jobs,\n\u001B[1;32m    488\u001B[0m     verbose\u001B[38;5;241m=\u001B[39m\u001B[38;5;28mself\u001B[39m\u001B[38;5;241m.\u001B[39mverbose,\n\u001B[1;32m    489\u001B[0m     prefer\u001B[38;5;241m=\u001B[39m\u001B[38;5;124m\"\u001B[39m\u001B[38;5;124mthreads\u001B[39m\u001B[38;5;124m\"\u001B[39m,\n\u001B[1;32m    490\u001B[0m )(\n\u001B[1;32m    491\u001B[0m     delayed(_parallel_build_trees)(\n\u001B[1;32m    492\u001B[0m         t,\n\u001B[1;32m    493\u001B[0m         \u001B[38;5;28mself\u001B[39m\u001B[38;5;241m.\u001B[39mbootstrap,\n\u001B[1;32m    494\u001B[0m         X,\n\u001B[1;32m    495\u001B[0m         y,\n\u001B[1;32m    496\u001B[0m         sample_weight,\n\u001B[1;32m    497\u001B[0m         i,\n\u001B[1;32m    498\u001B[0m         \u001B[38;5;28mlen\u001B[39m(trees),\n\u001B[1;32m    499\u001B[0m         verbose\u001B[38;5;241m=\u001B[39m\u001B[38;5;28mself\u001B[39m\u001B[38;5;241m.\u001B[39mverbose,\n\u001B[1;32m    500\u001B[0m         class_weight\u001B[38;5;241m=\u001B[39m\u001B[38;5;28mself\u001B[39m\u001B[38;5;241m.\u001B[39mclass_weight,\n\u001B[1;32m    501\u001B[0m         n_samples_bootstrap\u001B[38;5;241m=\u001B[39mn_samples_bootstrap,\n\u001B[1;32m    502\u001B[0m         missing_values_in_feature_mask\u001B[38;5;241m=\u001B[39mmissing_values_in_feature_mask,\n\u001B[1;32m    503\u001B[0m     )\n\u001B[1;32m    504\u001B[0m     \u001B[38;5;28;01mfor\u001B[39;00m i, t \u001B[38;5;129;01min\u001B[39;00m \u001B[38;5;28menumerate\u001B[39m(trees)\n\u001B[1;32m    505\u001B[0m )\n\u001B[1;32m    507\u001B[0m \u001B[38;5;66;03m# Collect newly grown trees\u001B[39;00m\n\u001B[1;32m    508\u001B[0m \u001B[38;5;28mself\u001B[39m\u001B[38;5;241m.\u001B[39mestimators_\u001B[38;5;241m.\u001B[39mextend(trees)\n",
      "File \u001B[0;32m~/.local/lib/python3.11/site-packages/sklearn/utils/parallel.py:82\u001B[0m, in \u001B[0;36mParallel.__call__\u001B[0;34m(self, iterable)\u001B[0m\n\u001B[1;32m     73\u001B[0m warning_filters \u001B[38;5;241m=\u001B[39m warnings\u001B[38;5;241m.\u001B[39mfilters\n\u001B[1;32m     74\u001B[0m iterable_with_config_and_warning_filters \u001B[38;5;241m=\u001B[39m (\n\u001B[1;32m     75\u001B[0m     (\n\u001B[1;32m     76\u001B[0m         _with_config_and_warning_filters(delayed_func, config, warning_filters),\n\u001B[0;32m   (...)\u001B[0m\n\u001B[1;32m     80\u001B[0m     \u001B[38;5;28;01mfor\u001B[39;00m delayed_func, args, kwargs \u001B[38;5;129;01min\u001B[39;00m iterable\n\u001B[1;32m     81\u001B[0m )\n\u001B[0;32m---> 82\u001B[0m \u001B[38;5;28;01mreturn\u001B[39;00m \u001B[38;5;28msuper\u001B[39m()\u001B[38;5;241m.\u001B[39m\u001B[38;5;21m__call__\u001B[39m(iterable_with_config_and_warning_filters)\n",
      "File \u001B[0;32m~/.local/lib/python3.11/site-packages/joblib/parallel.py:2072\u001B[0m, in \u001B[0;36mParallel.__call__\u001B[0;34m(self, iterable)\u001B[0m\n\u001B[1;32m   2066\u001B[0m \u001B[38;5;66;03m# The first item from the output is blank, but it makes the interpreter\u001B[39;00m\n\u001B[1;32m   2067\u001B[0m \u001B[38;5;66;03m# progress until it enters the Try/Except block of the generator and\u001B[39;00m\n\u001B[1;32m   2068\u001B[0m \u001B[38;5;66;03m# reaches the first `yield` statement. This starts the asynchronous\u001B[39;00m\n\u001B[1;32m   2069\u001B[0m \u001B[38;5;66;03m# dispatch of the tasks to the workers.\u001B[39;00m\n\u001B[1;32m   2070\u001B[0m \u001B[38;5;28mnext\u001B[39m(output)\n\u001B[0;32m-> 2072\u001B[0m \u001B[38;5;28;01mreturn\u001B[39;00m output \u001B[38;5;28;01mif\u001B[39;00m \u001B[38;5;28mself\u001B[39m\u001B[38;5;241m.\u001B[39mreturn_generator \u001B[38;5;28;01melse\u001B[39;00m \u001B[38;5;28mlist\u001B[39m(output)\n",
      "File \u001B[0;32m~/.local/lib/python3.11/site-packages/joblib/parallel.py:1682\u001B[0m, in \u001B[0;36mParallel._get_outputs\u001B[0;34m(self, iterator, pre_dispatch)\u001B[0m\n\u001B[1;32m   1679\u001B[0m     \u001B[38;5;28;01myield\u001B[39;00m\n\u001B[1;32m   1681\u001B[0m     \u001B[38;5;28;01mwith\u001B[39;00m \u001B[38;5;28mself\u001B[39m\u001B[38;5;241m.\u001B[39m_backend\u001B[38;5;241m.\u001B[39mretrieval_context():\n\u001B[0;32m-> 1682\u001B[0m         \u001B[38;5;28;01myield from\u001B[39;00m \u001B[38;5;28mself\u001B[39m\u001B[38;5;241m.\u001B[39m_retrieve()\n\u001B[1;32m   1684\u001B[0m \u001B[38;5;28;01mexcept\u001B[39;00m \u001B[38;5;167;01mGeneratorExit\u001B[39;00m:\n\u001B[1;32m   1685\u001B[0m     \u001B[38;5;66;03m# The generator has been garbage collected before being fully\u001B[39;00m\n\u001B[1;32m   1686\u001B[0m     \u001B[38;5;66;03m# consumed. This aborts the remaining tasks if possible and warn\u001B[39;00m\n\u001B[1;32m   1687\u001B[0m     \u001B[38;5;66;03m# the user if necessary.\u001B[39;00m\n\u001B[1;32m   1688\u001B[0m     \u001B[38;5;28mself\u001B[39m\u001B[38;5;241m.\u001B[39m_exception \u001B[38;5;241m=\u001B[39m \u001B[38;5;28;01mTrue\u001B[39;00m\n",
      "File \u001B[0;32m~/.local/lib/python3.11/site-packages/joblib/parallel.py:1800\u001B[0m, in \u001B[0;36mParallel._retrieve\u001B[0;34m(self)\u001B[0m\n\u001B[1;32m   1789\u001B[0m \u001B[38;5;28;01mif\u001B[39;00m \u001B[38;5;28mself\u001B[39m\u001B[38;5;241m.\u001B[39mreturn_ordered:\n\u001B[1;32m   1790\u001B[0m     \u001B[38;5;66;03m# Case ordered: wait for completion (or error) of the next job\u001B[39;00m\n\u001B[1;32m   1791\u001B[0m     \u001B[38;5;66;03m# that have been dispatched and not retrieved yet. If no job\u001B[39;00m\n\u001B[0;32m   (...)\u001B[0m\n\u001B[1;32m   1795\u001B[0m     \u001B[38;5;66;03m# control only have to be done on the amount of time the next\u001B[39;00m\n\u001B[1;32m   1796\u001B[0m     \u001B[38;5;66;03m# dispatched job is pending.\u001B[39;00m\n\u001B[1;32m   1797\u001B[0m     \u001B[38;5;28;01mif\u001B[39;00m (nb_jobs \u001B[38;5;241m==\u001B[39m \u001B[38;5;241m0\u001B[39m) \u001B[38;5;129;01mor\u001B[39;00m (\n\u001B[1;32m   1798\u001B[0m         \u001B[38;5;28mself\u001B[39m\u001B[38;5;241m.\u001B[39m_jobs[\u001B[38;5;241m0\u001B[39m]\u001B[38;5;241m.\u001B[39mget_status(timeout\u001B[38;5;241m=\u001B[39m\u001B[38;5;28mself\u001B[39m\u001B[38;5;241m.\u001B[39mtimeout) \u001B[38;5;241m==\u001B[39m TASK_PENDING\n\u001B[1;32m   1799\u001B[0m     ):\n\u001B[0;32m-> 1800\u001B[0m         time\u001B[38;5;241m.\u001B[39msleep(\u001B[38;5;241m0.01\u001B[39m)\n\u001B[1;32m   1801\u001B[0m         \u001B[38;5;28;01mcontinue\u001B[39;00m\n\u001B[1;32m   1803\u001B[0m \u001B[38;5;28;01melif\u001B[39;00m nb_jobs \u001B[38;5;241m==\u001B[39m \u001B[38;5;241m0\u001B[39m:\n\u001B[1;32m   1804\u001B[0m     \u001B[38;5;66;03m# Case unordered: jobs are added to the list of jobs to\u001B[39;00m\n\u001B[1;32m   1805\u001B[0m     \u001B[38;5;66;03m# retrieve `self._jobs` only once completed or in error, which\u001B[39;00m\n\u001B[0;32m   (...)\u001B[0m\n\u001B[1;32m   1811\u001B[0m     \u001B[38;5;66;03m# timeouts before any other dispatched job has completed and\u001B[39;00m\n\u001B[1;32m   1812\u001B[0m     \u001B[38;5;66;03m# been added to `self._jobs` to be retrieved.\u001B[39;00m\n",
      "\u001B[0;31mKeyboardInterrupt\u001B[0m: "
     ]
    }
   ],
   "execution_count": 8
  },
  {
   "metadata": {
    "trusted": false,
    "ExecuteTime": {
     "end_time": "2025-07-11T15:11:35.577873Z",
     "start_time": "2025-07-11T15:11:35.538798Z"
    }
   },
   "cell_type": "code",
   "source": "pred_val = random_forest.predict(embeddings_val)\n\nprint(classification_report(labels_val, pred_val))",
   "id": "817b02bf108c3f40",
   "outputs": [
    {
     "ename": "IndexError",
     "evalue": "list index out of range",
     "output_type": "error",
     "traceback": [
      "\u001B[0;31m---------------------------------------------------------------------------\u001B[0m",
      "\u001B[0;31mIndexError\u001B[0m                                Traceback (most recent call last)",
      "Cell \u001B[0;32mIn[9], line 1\u001B[0m\n\u001B[0;32m----> 1\u001B[0m pred_val \u001B[38;5;241m=\u001B[39m random_forest\u001B[38;5;241m.\u001B[39mpredict(embeddings_val)\n\u001B[1;32m      3\u001B[0m \u001B[38;5;28mprint\u001B[39m(classification_report(labels_val, pred_val))\n",
      "File \u001B[0;32m~/.local/lib/python3.11/site-packages/sklearn/ensemble/_forest.py:903\u001B[0m, in \u001B[0;36mForestClassifier.predict\u001B[0;34m(self, X)\u001B[0m\n\u001B[1;32m    882\u001B[0m \u001B[38;5;28;01mdef\u001B[39;00m \u001B[38;5;21mpredict\u001B[39m(\u001B[38;5;28mself\u001B[39m, X):\n\u001B[1;32m    883\u001B[0m \u001B[38;5;250m    \u001B[39m\u001B[38;5;124;03m\"\"\"\u001B[39;00m\n\u001B[1;32m    884\u001B[0m \u001B[38;5;124;03m    Predict class for X.\u001B[39;00m\n\u001B[1;32m    885\u001B[0m \n\u001B[0;32m   (...)\u001B[0m\n\u001B[1;32m    901\u001B[0m \u001B[38;5;124;03m        The predicted classes.\u001B[39;00m\n\u001B[1;32m    902\u001B[0m \u001B[38;5;124;03m    \"\"\"\u001B[39;00m\n\u001B[0;32m--> 903\u001B[0m     proba \u001B[38;5;241m=\u001B[39m \u001B[38;5;28mself\u001B[39m\u001B[38;5;241m.\u001B[39mpredict_proba(X)\n\u001B[1;32m    905\u001B[0m     \u001B[38;5;28;01mif\u001B[39;00m \u001B[38;5;28mself\u001B[39m\u001B[38;5;241m.\u001B[39mn_outputs_ \u001B[38;5;241m==\u001B[39m \u001B[38;5;241m1\u001B[39m:\n\u001B[1;32m    906\u001B[0m         \u001B[38;5;28;01mreturn\u001B[39;00m \u001B[38;5;28mself\u001B[39m\u001B[38;5;241m.\u001B[39mclasses_\u001B[38;5;241m.\u001B[39mtake(np\u001B[38;5;241m.\u001B[39margmax(proba, axis\u001B[38;5;241m=\u001B[39m\u001B[38;5;241m1\u001B[39m), axis\u001B[38;5;241m=\u001B[39m\u001B[38;5;241m0\u001B[39m)\n",
      "File \u001B[0;32m~/.local/lib/python3.11/site-packages/sklearn/ensemble/_forest.py:945\u001B[0m, in \u001B[0;36mForestClassifier.predict_proba\u001B[0;34m(self, X)\u001B[0m\n\u001B[1;32m    943\u001B[0m check_is_fitted(\u001B[38;5;28mself\u001B[39m)\n\u001B[1;32m    944\u001B[0m \u001B[38;5;66;03m# Check data\u001B[39;00m\n\u001B[0;32m--> 945\u001B[0m X \u001B[38;5;241m=\u001B[39m \u001B[38;5;28mself\u001B[39m\u001B[38;5;241m.\u001B[39m_validate_X_predict(X)\n\u001B[1;32m    947\u001B[0m \u001B[38;5;66;03m# Assign chunk of trees to jobs\u001B[39;00m\n\u001B[1;32m    948\u001B[0m n_jobs, _, _ \u001B[38;5;241m=\u001B[39m _partition_estimators(\u001B[38;5;28mself\u001B[39m\u001B[38;5;241m.\u001B[39mn_estimators, \u001B[38;5;28mself\u001B[39m\u001B[38;5;241m.\u001B[39mn_jobs)\n",
      "File \u001B[0;32m~/.local/lib/python3.11/site-packages/sklearn/ensemble/_forest.py:632\u001B[0m, in \u001B[0;36mBaseForest._validate_X_predict\u001B[0;34m(self, X)\u001B[0m\n\u001B[1;32m    629\u001B[0m \u001B[38;5;250m\u001B[39m\u001B[38;5;124;03m\"\"\"\u001B[39;00m\n\u001B[1;32m    630\u001B[0m \u001B[38;5;124;03mValidate X whenever one tries to predict, apply, predict_proba.\"\"\"\u001B[39;00m\n\u001B[1;32m    631\u001B[0m check_is_fitted(\u001B[38;5;28mself\u001B[39m)\n\u001B[0;32m--> 632\u001B[0m \u001B[38;5;28;01mif\u001B[39;00m \u001B[38;5;28mself\u001B[39m\u001B[38;5;241m.\u001B[39mestimators_[\u001B[38;5;241m0\u001B[39m]\u001B[38;5;241m.\u001B[39m_support_missing_values(X):\n\u001B[1;32m    633\u001B[0m     ensure_all_finite \u001B[38;5;241m=\u001B[39m \u001B[38;5;124m\"\u001B[39m\u001B[38;5;124mallow-nan\u001B[39m\u001B[38;5;124m\"\u001B[39m\n\u001B[1;32m    634\u001B[0m \u001B[38;5;28;01melse\u001B[39;00m:\n",
      "\u001B[0;31mIndexError\u001B[0m: list index out of range"
     ]
    }
   ],
   "execution_count": 9
  },
  {
   "metadata": {
    "ExecuteTime": {
     "end_time": "2025-07-11T15:23:51.990759Z",
     "start_time": "2025-07-11T15:23:41.020348Z"
    }
   },
   "cell_type": "code",
   "source": [
    "pca = PCA(256)\n",
    "embeddings_train_reduced = pca.fit_transform(embeddings_train)\n",
    "embeddings_val_reduced = pca.transform(embeddings_val)"
   ],
   "id": "9905f6e46403efc0",
   "outputs": [],
   "execution_count": 14
  },
  {
   "metadata": {
    "trusted": false,
    "ExecuteTime": {
     "end_time": "2025-07-11T15:26:21.108156Z",
     "start_time": "2025-07-11T15:23:52.014859Z"
    }
   },
   "cell_type": "code",
   "source": [
    "svm = SVC(kernel=\"rbf\", probability=True, class_weight=\"balanced\", random_state=42)\n",
    "\n",
    "svm.fit(embeddings_train_reduced, labels_train)\n",
    "\n",
    "pred_val = svm.predict(embeddings_val_reduced)\n",
    "\n",
    "print(classification_report(labels_val, pred_val))"
   ],
   "id": "7c897f4fbc61e5d2",
   "outputs": [
    {
     "name": "stdout",
     "output_type": "stream",
     "text": [
      "              precision    recall  f1-score   support\n",
      "\n",
      "           0       0.09      0.86      0.16       161\n",
      "           1       0.99      0.67      0.80      4329\n",
      "\n",
      "    accuracy                           0.68      4490\n",
      "   macro avg       0.54      0.77      0.48      4490\n",
      "weighted avg       0.96      0.68      0.78      4490\n",
      "\n"
     ]
    }
   ],
   "execution_count": 15
  }
 ],
 "metadata": {
  "kernelspec": {
   "display_name": "Python 3 (ipykernel)",
   "language": "python",
   "name": "python3"
  },
  "language_info": {
   "codemirror_mode": {
    "name": "ipython",
    "version": 2
   },
   "file_extension": ".py",
   "mimetype": "text/x-python",
   "name": "python",
   "nbconvert_exporter": "python",
   "pygments_lexer": "ipython2",
   "version": "2.7.6"
  }
 },
 "nbformat": 4,
 "nbformat_minor": 5
}
