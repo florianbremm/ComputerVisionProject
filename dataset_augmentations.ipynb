{
 "cells": [
  {
   "cell_type": "code",
   "execution_count": null,
   "id": "02b91c9d",
   "metadata": {},
   "outputs": [],
   "source": [
    "from torchvision import transforms as T\n",
    "from pathlib import Path\n",
    "from PIL import Image\n",
    "import torch\n",
    "from torch.utils.data import Dataset\n",
    "import os\n",
    "import json"
   ]
  },
  {
   "cell_type": "code",
   "execution_count": null,
   "id": "127a6fcb",
   "metadata": {},
   "outputs": [],
   "source": [
    "# Path to your JSON file\n",
    "json_path = Path('/home/group.kurse/cviwo012/train_test_split.json')\n",
    "\n",
    "# Load the file\n",
    "with open(json_path, 'r') as f:\n",
    "    split_data = json.load(f)\n",
    "\n",
    "# Access the train and test entries\n",
    "train_list = split_data.get(\"train\", [])\n",
    "train_list"
   ]
  },
  {
   "cell_type": "code",
   "execution_count": null,
   "id": "0f7cf3af",
   "metadata": {},
   "outputs": [],
   "source": [
    "moco_transform = T.Compose([\n",
    "    T.RandomHorizontalFlip(p=0.5),      # flip left-right with 50% probability\n",
    "    T.RandomVerticalFlip(p=0.5),        # flip top-bottom with 50% probability\n",
    "    T.RandomRotation(degrees=10),       # rotate randomly between -10° and +10°\n",
    "    T.GaussianBlur(kernel_size=3, sigma=(0.1, 2.0)),  # slight blur\n",
    "    T.ToTensor(),\n",
    "    T.Normalize(mean=[0.485, 0.456, 0.406],  # or use dataset-specific values\n",
    "                std=[0.229, 0.224, 0.225]),\n",
    "])"
   ]
  },
  {
   "cell_type": "code",
   "execution_count": null,
   "id": "8987775b",
   "metadata": {},
   "outputs": [],
   "source": [
    "class CellDataset(Dataset):\n",
    "    def __init__(self, video_list, path_to_videos, transform):\n",
    "        self.image_paths = []\n",
    "        self.path_to_videos = path_to_videos\n",
    "        self.transform = transform\n",
    "\n",
    "        for video_dict in video_list:\n",
    "            dst_path = path_to_videos / str(video_dict['name']) / 'images'\n",
    "            self.image_paths += dst_path.glob('*.jpg')\n",
    "\n",
    "    def __len__(self):\n",
    "        return len(self.image_paths)\n",
    "\n",
    "    def __getitem__(self, idx):\n",
    "        img_path = self.image_paths[idx]\n",
    "        img = Image.open(img_path).convert(\"RGB\")\n",
    "\n",
    "        if self.transform:\n",
    "            view1 = self.transform(img)\n",
    "            view2 = self.transform(img)\n",
    "            return view1, view2\n",
    "\n",
    "        return img"
   ]
  }
 ],
 "metadata": {
  "kernelspec": {
   "display_name": "Python 3 (ipykernel)",
   "language": "python",
   "name": "python3"
  }
 },
 "nbformat": 4,
 "nbformat_minor": 5
}
