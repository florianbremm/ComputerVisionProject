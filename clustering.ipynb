{
 "cells": [
  {
   "cell_type": "code",
   "execution_count": 1,
   "id": "6db2a870",
   "metadata": {},
   "outputs": [
    {
     "name": "stdout",
     "output_type": "stream",
     "text": [
      "/home/group.kurse/cviwo012/ComputerVisionProject\n"
     ]
    },
    {
     "name": "stderr",
     "output_type": "stream",
     "text": [
      "/home/group.kurse/cviwo012/my-env/lib/python3.9/site-packages/IPython/core/magics/osm.py:417: UserWarning: using dhist requires you to install the `pickleshare` library.\n",
      "  self.shell.db['dhist'] = compress_dhist(dhist)[-100:]\n"
     ]
    }
   ],
   "source": [
    "%cd ComputerVisionProject/"
   ]
  },
  {
   "cell_type": "markdown",
   "id": "df41d3b8",
   "metadata": {},
   "source": [
    "# Clustering"
   ]
  },
  {
   "cell_type": "code",
   "execution_count": 2,
   "id": "0905d1f7",
   "metadata": {},
   "outputs": [],
   "source": [
    "import torch\n",
    "from torch.utils.data import DataLoader\n",
    "from pathlib import Path\n",
    "import numpy as np\n",
    "from tqdm import tqdm\n",
    "import os\n",
    "import json\n",
    "import matplotlib.pyplot as plt\n",
    "\n",
    "from CellDataset import CellDataset\n",
    "from MoCoResNetBackbone import MoCoResNetBackbone"
   ]
  },
  {
   "cell_type": "code",
   "execution_count": 3,
   "id": "daca9d68",
   "metadata": {},
   "outputs": [
    {
     "data": {
      "text/plain": [
       "['model_epoch10.pth',\n",
       " 'loss_epoch10.pth',\n",
       " 'loss_epoch15.pth',\n",
       " 'loss_epoch20.pth',\n",
       " 'model_epoch20.pth',\n",
       " 'model_epoch5.pth',\n",
       " 'loss_epoch5.pth',\n",
       " 'model_epoch15.pth']"
      ]
     },
     "execution_count": 3,
     "metadata": {},
     "output_type": "execute_result"
    }
   ],
   "source": [
    "os.listdir(\"/scratch/cv-course-group-5/models/training3/\")"
   ]
  },
  {
   "cell_type": "code",
   "execution_count": 4,
   "id": "2c32a0d4",
   "metadata": {},
   "outputs": [],
   "source": [
    "# ========== Configuration ==========\n",
    "checkpoint_path = Path(\"/scratch/cv-course-group-5/models/training2/model_epoch45.pth\")  # adjust if needed\n",
    "device = torch.device(\"cuda:0\" if torch.cuda.is_available() else \"cpu\")\n",
    "batch_size = 64\n",
    "# save_path = Path(\"embeddings_cells.npz\")"
   ]
  },
  {
   "cell_type": "code",
   "execution_count": 5,
   "id": "dcf618aa",
   "metadata": {},
   "outputs": [],
   "source": [
    "_json_path = Path('train_test_split.json')\n",
    "\n",
    "# Load the file\n",
    "with open(_json_path, 'r') as f:\n",
    "    _split_data = json.load(f)\n",
    "\n",
    "# Access the train and test entries\n",
    "train_list = _split_data.get(\"train\", [])\n",
    "test_list = _split_data.get(\"test\", [])\n",
    "val_list = _split_data.get(\"val\", [])"
   ]
  },
  {
   "cell_type": "code",
   "execution_count": 6,
   "id": "903859a2",
   "metadata": {},
   "outputs": [
    {
     "name": "stdout",
     "output_type": "stream",
     "text": [
      "53453\n"
     ]
    }
   ],
   "source": [
    "# ========== Load model ==========\n",
    "model = MoCoResNetBackbone()\n",
    "model.to(device)\n",
    "\n",
    "checkpoint = torch.load(checkpoint_path, map_location=device)\n",
    "model.load_state_dict(checkpoint)\n",
    "model.eval()\n",
    "\n",
    "# ========== Prepare dataset ==========\n",
    "dataset = CellDataset(video_list=val_list[:10], mode='inference')\n",
    "dataloader = DataLoader(dataset, batch_size=batch_size, shuffle=False, num_workers=8, pin_memory=True)"
   ]
  },
  {
   "cell_type": "markdown",
   "id": "cb7eb00b",
   "metadata": {},
   "source": [
    "# Create Embeddings"
   ]
  },
  {
   "cell_type": "code",
   "execution_count": 7,
   "id": "ad7c5e48",
   "metadata": {},
   "outputs": [
    {
     "name": "stderr",
     "output_type": "stream",
     "text": [
      "Extracting embeddings: 100%|██████████████| 836/836 [00:36<00:00, 22.79it/s]\n"
     ]
    }
   ],
   "source": [
    "all_embeddings = []\n",
    "all_labels = []\n",
    "\n",
    "with torch.no_grad():\n",
    "    for imgs, labels in tqdm(dataloader, desc=\"Extracting embeddings\"):\n",
    "        imgs = imgs.to(device, non_blocking=True)\n",
    "        labels = labels.cpu().numpy()  # optional, if tensor\n",
    "        embeddings = model.encode_query(imgs)  # → (B, 2048)\n",
    "        embeddings = embeddings.cpu().numpy()\n",
    "\n",
    "        all_embeddings.append(embeddings)\n",
    "        all_labels.append(labels)"
   ]
  },
  {
   "cell_type": "code",
   "execution_count": 8,
   "id": "469598e5",
   "metadata": {},
   "outputs": [],
   "source": [
    "embeddings = np.concatenate(all_embeddings, axis=0)\n",
    "labels = np.concatenate(all_labels, axis=0)"
   ]
  },
  {
   "cell_type": "code",
   "execution_count": 9,
   "id": "935359a2",
   "metadata": {},
   "outputs": [
    {
     "name": "stdout",
     "output_type": "stream",
     "text": [
      "Value 0: 4.99%\n",
      "Value 1: 95.01%\n"
     ]
    }
   ],
   "source": [
    "# Get unique values and their counts\n",
    "values, counts = np.unique(labels, return_counts=True)\n",
    "\n",
    "# Compute percentages\n",
    "percentages = counts / counts.sum() * 100\n",
    "\n",
    "# Print results\n",
    "for val, pct in zip(values, percentages):\n",
    "    print(f\"Value {val}: {pct:.2f}%\")"
   ]
  },
  {
   "cell_type": "code",
   "execution_count": 10,
   "id": "ae6f908c",
   "metadata": {},
   "outputs": [
    {
     "data": {
      "image/png": "[encoded data removed]",
      "text/plain": [
       "<Figure size 640x480 with 1 Axes>"
      ]
     },
     "metadata": {},
     "output_type": "display_data"
    }
   ],
   "source": [
    "plt.hist(labels, bins=3, edgecolor='black')\n",
    "plt.title(\"Histogram of Data\")\n",
    "plt.xlabel(\"Value\")\n",
    "plt.ylabel(\"Frequency\")\n",
    "plt.grid(True)\n",
    "plt.show()"
   ]
  },
  {
   "cell_type": "markdown",
   "id": "892a463e",
   "metadata": {},
   "source": [
    "# PCA"
   ]
  },
  {
   "cell_type": "code",
   "execution_count": 11,
   "id": "51cbc53b",
   "metadata": {},
   "outputs": [],
   "source": [
    "import numpy as np\n",
    "import matplotlib.pyplot as plt\n",
    "from sklearn.decomposition import PCA\n",
    "from sklearn.manifold import TSNE\n",
    "import umap.umap_ as umap"
   ]
  },
  {
   "cell_type": "code",
   "execution_count": 12,
   "id": "b222ec97",
   "metadata": {},
   "outputs": [],
   "source": [
    "# 1. Fit PCA with 10 components\n",
    "pca = PCA(n_components=5)\n",
    "X_pca = pca.fit_transform(embeddings)"
   ]
  },
  {
   "cell_type": "code",
   "execution_count": 13,
   "id": "6a8246cc",
   "metadata": {},
   "outputs": [
    {
     "data": {
      "image/png": "[encoded data removed]",
      "text/plain": [
       "<Figure size 800x500 with 1 Axes>"
      ]
     },
     "metadata": {},
     "output_type": "display_data"
    }
   ],
   "source": [
    "# 2. Explained variance ratio\n",
    "explained_var = pca.explained_variance_ratio_\n",
    "cumulative_var = np.cumsum(explained_var)\n",
    "\n",
    "# 3. Plot\n",
    "plt.figure(figsize=(8, 5))\n",
    "plt.bar(range(1, len(explained_var)+1), explained_var, alpha=0.6, label='Individual explained variance')\n",
    "plt.plot(range(1, len(cumulative_var)+1), cumulative_var, marker='o', label='Cumulative explained variance')\n",
    "plt.xticks(range(1, len(cumulative_var)+1))\n",
    "plt.xlabel('Principal Component')\n",
    "plt.ylabel('Explained Variance Ratio')\n",
    "plt.title('PCA Explained Variance (First 10 Components)')\n",
    "plt.legend()\n",
    "plt.grid(True)\n",
    "plt.tight_layout()\n",
    "plt.show()"
   ]
  },
  {
   "cell_type": "markdown",
   "id": "b28c7a1a",
   "metadata": {},
   "source": [
    "# Clustering"
   ]
  },
  {
   "cell_type": "code",
   "execution_count": 14,
   "id": "4804a183",
   "metadata": {},
   "outputs": [],
   "source": [
    "import numpy as np\n",
    "import matplotlib.pyplot as plt\n",
    "from sklearn.decomposition import PCA\n",
    "from sklearn.mixture import GaussianMixture\n",
    "from sklearn.cluster import AgglomerativeClustering, HDBSCAN\n",
    "from sklearn.metrics import (\n",
    "    silhouette_score,\n",
    "    davies_bouldin_score,\n",
    "    adjusted_rand_score,\n",
    "    normalized_mutual_info_score\n",
    ")"
   ]
  },
  {
   "cell_type": "code",
   "execution_count": 15,
   "id": "34ada832",
   "metadata": {},
   "outputs": [],
   "source": [
    "clusterers = {\n",
    "    \"HDBSCAN\": HDBSCAN(min_cluster_size=50),\n",
    "    \"GMM\": GaussianMixture(n_components=2, covariance_type='full', random_state=42, weights_init=[0.96, 0.04]),\n",
    "    \"Agglomerative\": AgglomerativeClustering(n_clusters=2, linkage='complete')\n",
    "}\n",
    "\n",
    "# === Step 3: Evaluation functions ===\n",
    "def evaluate_unsupervised(X, labels_pred):\n",
    "    if len(set(labels_pred)) > 1:\n",
    "        sil = silhouette_score(X, labels_pred)\n",
    "        db = davies_bouldin_score(X, labels_pred)\n",
    "    else:\n",
    "        sil, db = np.nan, np.nan\n",
    "    return sil, db\n",
    "\n",
    "def evaluate_supervised(y_true, y_pred):\n",
    "    ari = adjusted_rand_score(y_true, y_pred)\n",
    "    nmi = normalized_mutual_info_score(y_true, y_pred)\n",
    "    return ari, nmi"
   ]
  },
  {
   "cell_type": "code",
   "execution_count": 16,
   "id": "3bbd4d3c",
   "metadata": {},
   "outputs": [],
   "source": [
    "# === Step 4: Run clustering and evaluate ===\n",
    "results = []\n",
    "\n",
    "for name, model in clusterers.items():\n",
    "    labels_pred = model.fit_predict(X_pca)\n",
    "    \n",
    "    sil, db = evaluate_unsupervised(X_pca, labels_pred)\n",
    "    ari, nmi = evaluate_supervised(labels, labels_pred)\n",
    "    n_clusters = len(set(labels_pred)) - (1 if -1 in labels_pred else 0)\n",
    "    \n",
    "    results.append({\n",
    "        \"Method\": name,\n",
    "        \"#Clusters\": n_clusters,\n",
    "        \"Silhouette\": sil,\n",
    "        \"Davies-Bouldin\": db,\n",
    "        \"ARI\": ari,\n",
    "        \"NMI\": nmi\n",
    "    })"
   ]
  },
  {
   "cell_type": "code",
   "execution_count": 17,
   "id": "3080f770",
   "metadata": {},
   "outputs": [
    {
     "name": "stdout",
     "output_type": "stream",
     "text": [
      "\n",
      "=== Clustering Evaluation Summary ===\n",
      "Method          #Clusters  Silhouette   DB Index   ARI      NMI     \n",
      "-----------------------------------------------------------------\n",
      "HDBSCAN         2          0.695        1.179      0.022    0.002   \n",
      "GMM             2          0.525        1.151      0.023    0.002   \n",
      "Agglomerative   2          0.923        0.310      -0.003   0.001   \n"
     ]
    }
   ],
   "source": [
    "\n",
    "# === Step 5: Print results table ===\n",
    "print(\"\\n=== Clustering Evaluation Summary ===\")\n",
    "print(f\"{'Method':<15} {'#Clusters':<10} {'Silhouette':<12} {'DB Index':<10} {'ARI':<8} {'NMI':<8}\")\n",
    "print(\"-\" * 65)\n",
    "for r in results:\n",
    "    print(f\"{r['Method']:<15} {r['#Clusters']:<10} \"\n",
    "          f\"{r['Silhouette']:<12.3f} {r['Davies-Bouldin']:<10.3f} \"\n",
    "          f\"{r['ARI']:<8.3f} {r['NMI']:<8.3f}\")"
   ]
  },
  {
   "cell_type": "code",
   "execution_count": null,
   "id": "ec6fa6ef",
   "metadata": {},
   "outputs": [],
   "source": []
  }
 ],
 "metadata": {
  "kernelspec": {
   "display_name": "Python 3 (ipykernel)",
   "language": "python",
   "name": "python3"
  },
  "language_info": {
   "codemirror_mode": {
    "name": "ipython",
    "version": 3
   },
   "file_extension": ".py",
   "mimetype": "text/x-python",
   "name": "python",
   "nbconvert_exporter": "python",
   "pygments_lexer": "ipython3",
   "version": "3.9.21"
  }
 },
 "nbformat": 4,
 "nbformat_minor": 5
}
